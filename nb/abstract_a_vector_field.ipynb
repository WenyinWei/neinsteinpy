{
 "cells": [
  {
   "cell_type": "code",
   "execution_count": 1,
   "id": "3635e68f",
   "metadata": {},
   "outputs": [],
   "source": [
    "import numpy as np\n",
    "nR, nZ, nPhi = 150, 80, 60\n",
    "R_arr = np.linspace(4, 6, num=nR)\n",
    "Z_arr = np.linspace(-5, 5, num=nZ)\n",
    "Phi_arr = np.linspace(0.0, 2*np.pi, num=nPhi)"
   ]
  },
  {
   "cell_type": "code",
   "execution_count": 2,
   "id": "4875b19a",
   "metadata": {},
   "outputs": [],
   "source": [
    "from neinsteinpy.numeric.vector import NGenericVector, NBaseRelativityTensor"
   ]
  },
  {
   "cell_type": "code",
   "execution_count": null,
   "id": "957334af",
   "metadata": {},
   "outputs": [],
   "source": [
    "A = NGenericVector(\n",
    "    arr = np.random.randn(3, nR, nZ), \n",
    "    var_arrs = [R_arr, Z_arr],\n",
    "    config = 'u')"
   ]
  },
  {
   "cell_type": "markdown",
   "id": "c1257e23",
   "metadata": {},
   "source": [
    "## Verify $\\vec{A}-\\vec{A} = \\vec{0}$"
   ]
  },
  {
   "cell_type": "code",
   "execution_count": null,
   "id": "0c77f786",
   "metadata": {},
   "outputs": [],
   "source": [
    "(A-A).arr"
   ]
  },
  {
   "cell_type": "markdown",
   "id": "956c53fc",
   "metadata": {},
   "source": [
    "## Vector Dot and Vector-Dyad Product "
   ]
  },
  {
   "cell_type": "code",
   "execution_count": null,
   "id": "9c40a295",
   "metadata": {},
   "outputs": [],
   "source": [
    "from neinsteinpy.numeric.tensor import tensor_product\n",
    "B = NGenericVector(\n",
    "    arr = np.random.randn(3, nR, nZ), \n",
    "    var_arrs = [R_arr, Z_arr],\n",
    "    config = 'l')\n",
    "tensor_product(A, B, i=0, j=0)"
   ]
  },
  {
   "cell_type": "code",
   "execution_count": null,
   "id": "f8ab0945",
   "metadata": {},
   "outputs": [],
   "source": [
    "C = NBaseRelativityTensor(\n",
    "    arr = np.random.randn(3, 3, nR, nZ), \n",
    "    var_arrs = [R_arr, Z_arr],\n",
    "    config = 'll')\n",
    "AC = tensor_product(A, C, i=0, j=0)\n",
    "AC.arr"
   ]
  },
  {
   "cell_type": "markdown",
   "id": "2a59b884",
   "metadata": {},
   "source": [
    "## Scalar Field Multiplication"
   ]
  },
  {
   "cell_type": "code",
   "execution_count": null,
   "id": "35fd009e",
   "metadata": {},
   "outputs": [],
   "source": [
    "f = NBaseRelativityTensor(\n",
    "    arr = np.random.randn( nR, nZ), \n",
    "    var_arrs = [R_arr, Z_arr],\n",
    "    config = '')\n",
    "g = NBaseRelativityTensor(\n",
    "    arr = np.random.randn(3, nR, nZ), \n",
    "    var_arrs = [R_arr, Z_arr],\n",
    "    config = 'u')\n",
    "h = tensor_product(f,g)\n",
    "h.arr"
   ]
  },
  {
   "cell_type": "markdown",
   "id": "817dee7a",
   "metadata": {},
   "source": [
    "## Config Transform"
   ]
  },
  {
   "cell_type": "code",
   "execution_count": 3,
   "id": "0d4070d9",
   "metadata": {},
   "outputs": [],
   "source": [
    "from neinsteinpy.numeric.metric import NMetricTensor\n",
    "metric_arr = np.zeros((3, 3, nR, nZ, nPhi))\n",
    "metric_arr[0, 0] = metric_arr[1, 1] = np.ones((nR, nZ, nPhi))\n",
    "metric_arr[2, 2] = R_arr[:,None,None]**2 * np.ones((nR, nZ, nPhi)) \n",
    "RZPhi_metric = NMetricTensor(\n",
    "    arr = metric_arr,\n",
    "    var_arrs = [R_arr, Z_arr, Phi_arr],\n",
    "    config = 'll')"
   ]
  },
  {
   "cell_type": "code",
   "execution_count": 4,
   "id": "228f6e87",
   "metadata": {},
   "outputs": [
    {
     "data": {
      "text/plain": [
       "True"
      ]
     },
     "execution_count": 4,
     "metadata": {},
     "output_type": "execute_result"
    }
   ],
   "source": [
    "np.allclose(\n",
    "    RZPhi_metric.change_config('uu').arr[2, 2], \n",
    "    R_arr[:,None,None]**(-2) * np.ones((nR, nZ, nPhi)) )"
   ]
  },
  {
   "cell_type": "code",
   "execution_count": 5,
   "id": "7b05d13e",
   "metadata": {
    "scrolled": true
   },
   "outputs": [
    {
     "data": {
      "text/plain": [
       "<neinsteinpy.numeric.vector.NGenericVector at 0x7f38f087bdc0>"
      ]
     },
     "execution_count": 5,
     "metadata": {},
     "output_type": "execute_result"
    }
   ],
   "source": [
    "B = NGenericVector(\n",
    "    arr = np.random.randn(3, nR, nZ, nPhi), \n",
    "    var_arrs = [R_arr, Z_arr, Phi_arr],\n",
    "    config = 'l',\n",
    "    parent_metric=RZPhi_metric)\n",
    "B.change_config('u')"
   ]
  },
  {
   "cell_type": "code",
   "execution_count": 8,
   "id": "eff6514c",
   "metadata": {},
   "outputs": [
    {
     "data": {
      "text/plain": [
       "True"
      ]
     },
     "execution_count": 8,
     "metadata": {},
     "output_type": "execute_result"
    }
   ],
   "source": [
    "B_u_arr = np.zeros((3, nR, nZ, nPhi))\n",
    "RZPhi_metric_uu = RZPhi_metric.change_config('uu')\n",
    "for i in range(3):\n",
    "    for j in range(3):\n",
    "        B_u_arr[i] += RZPhi_metric_uu.arr[i, j] * B.arr[j]\n",
    "\n",
    "np.allclose(\n",
    "    B_u_arr, \n",
    "    B.change_config('u').arr )"
   ]
  },
  {
   "cell_type": "code",
   "execution_count": null,
   "id": "5dd94db7",
   "metadata": {},
   "outputs": [],
   "source": []
  }
 ],
 "metadata": {
  "kernelspec": {
   "display_name": "Python 3 (ipykernel)",
   "language": "python",
   "name": "python3"
  },
  "language_info": {
   "codemirror_mode": {
    "name": "ipython",
    "version": 3
   },
   "file_extension": ".py",
   "mimetype": "text/x-python",
   "name": "python",
   "nbconvert_exporter": "python",
   "pygments_lexer": "ipython3",
   "version": "3.8.10"
  }
 },
 "nbformat": 4,
 "nbformat_minor": 5
}
