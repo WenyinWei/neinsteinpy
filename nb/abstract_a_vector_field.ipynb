{
 "cells": [
  {
   "cell_type": "code",
   "execution_count": null,
   "id": "10343670",
   "metadata": {},
   "outputs": [],
   "source": [
    "import numpy as np\n",
    "nR, nZ = 150, 80\n",
    "R_arr = np.linspace(0, 6, num=nR)\n",
    "Z_arr = np.linspace(-5, 5, num=nZ)"
   ]
  },
  {
   "cell_type": "code",
   "execution_count": null,
   "id": "c1154d38",
   "metadata": {},
   "outputs": [],
   "source": [
    "from neinsteinpy.numeric.vector import NGenericVector, NBaseRelativityTensor"
   ]
  },
  {
   "cell_type": "code",
   "execution_count": null,
   "id": "fbe7609a",
   "metadata": {},
   "outputs": [],
   "source": [
    "A = NGenericVector(\n",
    "    arr = np.random.randn(3, nR, nZ), \n",
    "    var_arrs = [R_arr, Z_arr],\n",
    "    config = 'u')"
   ]
  },
  {
   "cell_type": "markdown",
   "id": "5590d215",
   "metadata": {},
   "source": [
    "## Verify $\\vec{A}-\\vec{A} = \\vec{0}$"
   ]
  },
  {
   "cell_type": "code",
   "execution_count": null,
   "id": "65c04c7c",
   "metadata": {},
   "outputs": [],
   "source": [
    "(A-A).arr"
   ]
  },
  {
   "cell_type": "markdown",
   "id": "a3e015a0",
   "metadata": {},
   "source": [
    "## Vector Dot and Vector-Dyad Product "
   ]
  },
  {
   "cell_type": "code",
   "execution_count": null,
   "id": "fe250083",
   "metadata": {},
   "outputs": [],
   "source": [
    "from neinsteinpy.numeric.tensor import tensor_product\n",
    "B = NGenericVector(\n",
    "    arr = np.random.randn(3, nR, nZ), \n",
    "    var_arrs = [R_arr, Z_arr],\n",
    "    config = 'l')\n",
    "tensor_product(A, B, i=0, j=0)"
   ]
  },
  {
   "cell_type": "code",
   "execution_count": null,
   "id": "c097d5cb",
   "metadata": {},
   "outputs": [],
   "source": [
    "C = NBaseRelativityTensor(\n",
    "    arr = np.random.randn(3, 3, nR, nZ), \n",
    "    var_arrs = [R_arr, Z_arr],\n",
    "    config = 'll')\n",
    "AC = tensor_product(A, C, i=0, j=0)\n",
    "AC.arr"
   ]
  },
  {
   "cell_type": "markdown",
   "id": "84cd8110",
   "metadata": {},
   "source": [
    "## Scalar Field Multiplication"
   ]
  },
  {
   "cell_type": "code",
   "execution_count": null,
   "id": "8dac93c1",
   "metadata": {},
   "outputs": [],
   "source": [
    "f = NBaseRelativityTensor(\n",
    "    arr = np.random.randn( nR, nZ), \n",
    "    var_arrs = [R_arr, Z_arr],\n",
    "    config = '')\n",
    "g = NBaseRelativityTensor(\n",
    "    arr = np.random.randn(3, nR, nZ), \n",
    "    var_arrs = [R_arr, Z_arr],\n",
    "    config = 'u')\n",
    "h = tensor_product(f,g)\n",
    "h.arr"
   ]
  },
  {
   "cell_type": "code",
   "execution_count": null,
   "id": "627dc5ae",
   "metadata": {},
   "outputs": [],
   "source": []
  }
 ],
 "metadata": {
  "kernelspec": {
   "display_name": "Python 3 (ipykernel)",
   "language": "python",
   "name": "python3"
  },
  "language_info": {
   "codemirror_mode": {
    "name": "ipython",
    "version": 3
   },
   "file_extension": ".py",
   "mimetype": "text/x-python",
   "name": "python",
   "nbconvert_exporter": "python",
   "pygments_lexer": "ipython3",
   "version": "3.8.10"
  }
 },
 "nbformat": 4,
 "nbformat_minor": 5
}
