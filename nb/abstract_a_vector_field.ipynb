{
 "cells": [
  {
   "cell_type": "code",
   "execution_count": 1,
   "id": "2c58ae05",
   "metadata": {},
   "outputs": [],
   "source": [
    "import numpy as np\n",
    "nR, nZ, nPhi = 150, 80, 60\n",
    "R_arr = np.linspace(4, 6, num=nR)\n",
    "Z_arr = np.linspace(-5, 5, num=nZ)\n",
    "Phi_arr = np.linspace(0.0, 2*np.pi, num=nPhi)"
   ]
  },
  {
   "cell_type": "code",
   "execution_count": 2,
   "id": "bfb47671",
   "metadata": {},
   "outputs": [],
   "source": [
    "from neinsteinpy.numeric.vector import NGenericVector, NBaseRelativityTensor"
   ]
  },
  {
   "cell_type": "markdown",
   "id": "22baa56d",
   "metadata": {},
   "source": [
    "## Verify $\\vec{A}-\\vec{A} = \\vec{0}$"
   ]
  },
  {
   "cell_type": "code",
   "execution_count": 3,
   "id": "1fb6d022",
   "metadata": {},
   "outputs": [
    {
     "data": {
      "text/plain": [
       "True"
      ]
     },
     "execution_count": 3,
     "metadata": {},
     "output_type": "execute_result"
    }
   ],
   "source": [
    "A = NGenericVector(\n",
    "    arr = np.random.randn(3, nR, nZ), \n",
    "    var_arrs = [R_arr, Z_arr],\n",
    "    config = 'u')\n",
    "np.allclose( (A-A).arr, 0 )"
   ]
  },
  {
   "cell_type": "markdown",
   "id": "6497f595",
   "metadata": {},
   "source": [
    "## Index Config Transform"
   ]
  },
  {
   "cell_type": "code",
   "execution_count": 4,
   "id": "aac47663",
   "metadata": {},
   "outputs": [],
   "source": [
    "from neinsteinpy.numeric.metric import NMetricTensor\n",
    "metric_arr = np.zeros((3, 3, nR, nZ, nPhi))\n",
    "metric_arr[0, 0] = metric_arr[1, 1] = np.ones((nR, nZ, nPhi))\n",
    "metric_arr[2, 2] = R_arr[:,None,None]**2 * np.ones((nR, nZ, nPhi)) \n",
    "RZPhi_metric = NMetricTensor(\n",
    "    arr = metric_arr,\n",
    "    var_arrs = [R_arr, Z_arr, Phi_arr],\n",
    "    config = 'll')"
   ]
  },
  {
   "cell_type": "code",
   "execution_count": 5,
   "id": "d4376ac8",
   "metadata": {
    "scrolled": true
   },
   "outputs": [
    {
     "data": {
      "text/plain": [
       "True"
      ]
     },
     "execution_count": 5,
     "metadata": {},
     "output_type": "execute_result"
    }
   ],
   "source": [
    "np.allclose(\n",
    "    RZPhi_metric.change_config('uu').arr[2, 2], \n",
    "    R_arr[:,None,None]**(-2) * np.ones((nR, nZ, nPhi)) )"
   ]
  },
  {
   "cell_type": "markdown",
   "id": "4e1ba784",
   "metadata": {},
   "source": [
    "## Vector Dot and Vector-Dyad Product "
   ]
  },
  {
   "cell_type": "code",
   "execution_count": 6,
   "id": "00455e07",
   "metadata": {},
   "outputs": [
    {
     "data": {
      "text/plain": [
       "<neinsteinpy.numeric.tensor.NBaseRelativityTensor at 0x7ff153eedd60>"
      ]
     },
     "execution_count": 6,
     "metadata": {},
     "output_type": "execute_result"
    }
   ],
   "source": [
    "from neinsteinpy.numeric.tensor import tensor_product, tensor_cross\n",
    "B = NGenericVector(\n",
    "    arr = np.random.randn(3, nR, nZ), \n",
    "    var_arrs = [R_arr, Z_arr],\n",
    "    config = 'l')\n",
    "tensor_product(A, B, i=0, j=0)"
   ]
  },
  {
   "cell_type": "code",
   "execution_count": 7,
   "id": "f8ec1266",
   "metadata": {},
   "outputs": [
    {
     "data": {
      "text/plain": [
       "array([[[-0.45803517,  1.3823384 , -0.45571778, ...,  2.6109463 ,\n",
       "         -0.88093694, -3.76397208],\n",
       "        [ 2.46856651, -1.30518176, -5.7517079 , ...,  1.50953129,\n",
       "         -3.05405707,  1.73750474],\n",
       "        [ 0.39541255,  1.29515578, -1.35581122, ...,  0.90585371,\n",
       "         -6.70245764,  2.34209429],\n",
       "        ...,\n",
       "        [-2.10914034,  0.09447842,  0.12324732, ..., -2.22551098,\n",
       "         -2.14922706, -1.09202426],\n",
       "        [ 8.10990154,  0.518906  , -2.33229054, ..., -2.57817476,\n",
       "          0.41343893,  0.58984955],\n",
       "        [-2.29016815,  0.75094816,  1.81984253, ...,  0.56028475,\n",
       "         -1.76761812,  2.89405613]],\n",
       "\n",
       "       [[ 1.72981214,  0.589686  ,  1.51166503, ...,  0.9489457 ,\n",
       "         -0.29168535, -0.83016999],\n",
       "        [ 2.65137846, -0.59440926,  0.93525491, ..., -4.2542809 ,\n",
       "         -3.9139942 ,  5.45997611],\n",
       "        [-0.42053449,  0.79302382, -0.45296705, ..., -1.40196042,\n",
       "          0.46706529, -1.13992662],\n",
       "        ...,\n",
       "        [ 0.55852522,  0.13085597,  0.42178002, ..., -3.38045797,\n",
       "         -1.3691548 , -1.00170875],\n",
       "        [-3.44337055,  0.4538167 ,  5.64419352, ..., -0.57419041,\n",
       "         -0.31537365,  2.64456695],\n",
       "        [-2.61036718, -0.37454883,  0.10734043, ..., -0.03399819,\n",
       "          1.69075847,  1.47459144]],\n",
       "\n",
       "       [[ 0.8808014 ,  1.11956958, -0.75318367, ...,  2.15909312,\n",
       "          0.62569015, -3.37990448],\n",
       "        [-0.48152462,  0.95350632, -2.31710864, ...,  0.48569812,\n",
       "          1.71776972, -3.03549606],\n",
       "        [-0.16765055,  1.64213753, -2.31506985, ..., -1.92678955,\n",
       "         -1.8777941 ,  0.3726744 ],\n",
       "        ...,\n",
       "        [ 0.71732812, -0.87825797,  0.29359645, ..., -0.37487998,\n",
       "          3.5738326 , -1.24206225],\n",
       "        [-5.17354763,  0.43178412,  3.01088034, ...,  1.54062249,\n",
       "         -1.06049351,  3.19478096],\n",
       "        [ 1.57869599,  0.08777636,  0.46475002, ...,  1.55997565,\n",
       "          0.23444819,  0.38422344]]])"
      ]
     },
     "execution_count": 7,
     "metadata": {},
     "output_type": "execute_result"
    }
   ],
   "source": [
    "C = NBaseRelativityTensor(\n",
    "    arr = np.random.randn(3, 3, nR, nZ), \n",
    "    var_arrs = [R_arr, Z_arr],\n",
    "    config = 'll')\n",
    "AC = tensor_product(A, C, i=0, j=0)\n",
    "AC.arr"
   ]
  },
  {
   "cell_type": "markdown",
   "id": "b8e0fe55",
   "metadata": {},
   "source": [
    "## Tensor Product"
   ]
  },
  {
   "cell_type": "code",
   "execution_count": 9,
   "id": "9f8e15c2",
   "metadata": {},
   "outputs": [
    {
     "data": {
      "text/plain": [
       "<neinsteinpy.numeric.tensor.NBaseRelativityTensor at 0x7ff154ebd4c0>"
      ]
     },
     "execution_count": 9,
     "metadata": {},
     "output_type": "execute_result"
    }
   ],
   "source": [
    "# Scalar * Vector \n",
    "f = NBaseRelativityTensor(\n",
    "    arr = np.random.randn( nR, nZ), \n",
    "    var_arrs = [R_arr, Z_arr],\n",
    "    config = '')\n",
    "g = NBaseRelativityTensor(\n",
    "    arr = np.random.randn(3, nR, nZ), \n",
    "    var_arrs = [R_arr, Z_arr],\n",
    "    config = 'u')\n",
    "h = tensor_product(f,g) \n",
    "\n",
    "# Vector . Vector,   Vector x Vector\n",
    "B = NGenericVector(\n",
    "    arr = np.random.randn(3, nR, nZ, nPhi), \n",
    "    var_arrs = [R_arr, Z_arr, Phi_arr],\n",
    "    config = 'l',\n",
    "    parent_metric=RZPhi_metric)\n",
    "H = NGenericVector(\n",
    "    arr = np.random.randn(3, nR, nZ, nPhi), \n",
    "    var_arrs = [R_arr, Z_arr, Phi_arr],\n",
    "    config = 'l',\n",
    "    parent_metric=RZPhi_metric)\n",
    "tensor_product(B, H)\n",
    "tensor_cross(B, H)"
   ]
  },
  {
   "cell_type": "code",
   "execution_count": null,
   "id": "7eadcca9",
   "metadata": {
    "scrolled": true
   },
   "outputs": [],
   "source": []
  },
  {
   "cell_type": "code",
   "execution_count": 7,
   "id": "4e9b218e",
   "metadata": {},
   "outputs": [],
   "source": []
  },
  {
   "cell_type": "code",
   "execution_count": null,
   "id": "4899350e",
   "metadata": {},
   "outputs": [],
   "source": []
  },
  {
   "cell_type": "code",
   "execution_count": null,
   "id": "9d3adfa5",
   "metadata": {},
   "outputs": [],
   "source": []
  }
 ],
 "metadata": {
  "kernelspec": {
   "display_name": "Python 3 (ipykernel)",
   "language": "python",
   "name": "python3"
  },
  "language_info": {
   "codemirror_mode": {
    "name": "ipython",
    "version": 3
   },
   "file_extension": ".py",
   "mimetype": "text/x-python",
   "name": "python",
   "nbconvert_exporter": "python",
   "pygments_lexer": "ipython3",
   "version": "3.8.10"
  }
 },
 "nbformat": 4,
 "nbformat_minor": 5
}
